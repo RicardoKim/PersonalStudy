{
 "cells": [
  {
   "cell_type": "code",
   "execution_count": null,
   "outputs": [],
   "source": [
    "def solution(name):\n",
    "    name_len = len(name)\n",
    "    tag = 0\n",
    "    name_list = list(name)\n",
    "    index = 0\n",
    "    answer = 0\n",
    "    while tag < name_len :\n",
    "        if name_list[index] != \"A\":\n",
    "            target_ascii = ord(name_list[index])\n",
    "            origin_ascii = ord(\"A\")\n",
    "            neg_move = abs(origin_ascii - target_ascii)\n",
    "            pos_move = abs(target_ascii - origin_ascii)\n",
    "            answer += min(neg_move, pos_move)\n",
    "\n",
    "            right_move = 0\n",
    "            right_index = 0\n",
    "            left_move = 0\n",
    "            left_index = 0\n",
    "            for i in range(index + 1, name_len) :\n",
    "                if name_list[i] != 'A' :\n",
    "                    right_index = i\n",
    "                    break\n",
    "                else :\n",
    "                    right_move += 1\n",
    "\n",
    "            for i in range(index, index - name_len, -1):\n",
    "                if name_list[i] != 'A' :\n",
    "                    left_index = i\n",
    "                    break\n",
    "                else :\n",
    "                    left_move += 1\n",
    "            if right_move < left_move :\n",
    "                index = right_index\n",
    "                answer += right_move\n",
    "            else :\n",
    "                index = left_index\n",
    "                answer += left_move\n",
    "    return answer"
   ],
   "metadata": {
    "collapsed": false,
    "pycharm": {
     "name": "#%%\n",
     "is_executing": true
    }
   }
  },
  {
   "cell_type": "code",
   "execution_count": null,
   "outputs": [],
   "source": [],
   "metadata": {
    "collapsed": false,
    "pycharm": {
     "name": "#%%\n"
    }
   }
  }
 ],
 "metadata": {
  "kernelspec": {
   "display_name": "Python 3",
   "language": "python",
   "name": "python3"
  },
  "language_info": {
   "codemirror_mode": {
    "name": "ipython",
    "version": 2
   },
   "file_extension": ".py",
   "mimetype": "text/x-python",
   "name": "python",
   "nbconvert_exporter": "python",
   "pygments_lexer": "ipython2",
   "version": "2.7.6"
  }
 },
 "nbformat": 4,
 "nbformat_minor": 0
}